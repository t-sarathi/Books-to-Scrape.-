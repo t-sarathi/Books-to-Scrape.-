{
 "cells": [
  {
   "cell_type": "markdown",
   "id": "571c17a4-425a-473f-906d-6f41a927740c",
   "metadata": {},
   "source": [
    "## Scraping a Bookstore web page:\n"
   ]
  },
  {
   "cell_type": "markdown",
   "id": "28ad25d0-8c7c-4ae0-b3c5-8aa6c3540c22",
   "metadata": {},
   "source": [
    "## Scrapping the book webpage:"
   ]
  },
  {
   "cell_type": "code",
   "execution_count": 13,
   "id": "52d3fa76-0188-4d49-86fa-3028e73b168c",
   "metadata": {},
   "outputs": [],
   "source": [
    "import requests\n",
    "from bs4 import BeautifulSoup\n",
    "from tqdm import tqdm"
   ]
  },
  {
   "cell_type": "code",
   "execution_count": 14,
   "id": "5f38bc34-2e34-4d16-aeeb-11aafffca344",
   "metadata": {},
   "outputs": [],
   "source": [
    "link='https://books.toscrape.com/catalogue/page-1.html'\n",
    "res=requests.get(link)\n",
    "soup=BeautifulSoup(res.text,'html.parser')"
   ]
  },
  {
   "cell_type": "code",
   "execution_count": 15,
   "id": "ab006d95-78eb-4005-b2cb-2012384d7293",
   "metadata": {},
   "outputs": [
    {
     "name": "stderr",
     "output_type": "stream",
     "text": [
      "100%|██████████| 50/50 [01:39<00:00,  1.99s/it]\n"
     ]
    }
   ],
   "source": [
    "data=[]\n",
    "for page in tqdm(range(1,51)):\n",
    "    link=f'https://books.toscrape.com/catalogue/page-{page}.html'\n",
    "    res=requests.get(link)\n",
    "    soup=BeautifulSoup(res.text,'html.parser')\n",
    "\n",
    "    for sp in soup.find_all('li',class_=\"col-xs-6 col-sm-4 col-md-3 col-lg-3\"):\n",
    "           \n",
    "    \n",
    "        link            ='https://books.toscrape.com/catalogue/'+str(sp.find_all('a')[-1].get('href'))\n",
    "        title           =sp.find_all('a')[1].get('title')\n",
    "        rating            =sp.find('p').get('class')[-1]\n",
    "        price           =sp.find('p',class_='price_color').text[1:]\n",
    "        availability    =sp.find('p', class_=\"instock availability\").text.strip()\n",
    "        \n",
    "        \n",
    "        data.append([title,link,rating,price,availability])"
   ]
  },
  {
   "cell_type": "code",
   "execution_count": 16,
   "id": "f64ed5ce-93c7-4f02-9117-b4e2582b8559",
   "metadata": {},
   "outputs": [],
   "source": [
    "columns = ['Title', 'link_of_the_book', 'Rating', 'Price', 'Availability']\n",
    "df=pd.DataFrame(data,columns=columns)\n",
    "    "
   ]
  },
  {
   "cell_type": "code",
   "execution_count": 17,
   "id": "fbcb80b3-902d-41cb-95ab-ccd9d3fda6bb",
   "metadata": {},
   "outputs": [],
   "source": [
    "df.to_csv('books.csv',index=False)"
   ]
  },
  {
   "cell_type": "markdown",
   "id": "982de01f-bfbb-4e0e-b65d-3251c67a49cc",
   "metadata": {},
   "source": [
    "### New scrapping :"
   ]
  },
  {
   "cell_type": "code",
   "execution_count": 6,
   "id": "7f4447ee-43ba-4621-99ef-aa796ffb4368",
   "metadata": {},
   "outputs": [],
   "source": [
    "import pandas as pd\n",
    "import numpy as np\n",
    "import requests\n",
    "from bs4 import BeautifulSoup\n",
    "from tqdm import tqdm\n"
   ]
  },
  {
   "cell_type": "code",
   "execution_count": 7,
   "id": "1dd83824-a138-4596-8c97-9b064c1104bb",
   "metadata": {},
   "outputs": [],
   "source": [
    "df=pd.read_csv(\"books.csv\")"
   ]
  },
  {
   "cell_type": "code",
   "execution_count": 8,
   "id": "a9aed261-9883-4c95-8675-7c653053f919",
   "metadata": {},
   "outputs": [
    {
     "data": {
      "text/html": [
       "<div>\n",
       "<style scoped>\n",
       "    .dataframe tbody tr th:only-of-type {\n",
       "        vertical-align: middle;\n",
       "    }\n",
       "\n",
       "    .dataframe tbody tr th {\n",
       "        vertical-align: top;\n",
       "    }\n",
       "\n",
       "    .dataframe thead th {\n",
       "        text-align: right;\n",
       "    }\n",
       "</style>\n",
       "<table border=\"1\" class=\"dataframe\">\n",
       "  <thead>\n",
       "    <tr style=\"text-align: right;\">\n",
       "      <th></th>\n",
       "      <th>Title</th>\n",
       "      <th>link_of_the_book</th>\n",
       "      <th>Rating</th>\n",
       "      <th>Price</th>\n",
       "      <th>Availability</th>\n",
       "    </tr>\n",
       "  </thead>\n",
       "  <tbody>\n",
       "    <tr>\n",
       "      <th>747</th>\n",
       "      <td>The Guernsey Literary and Potato Peel Pie Society</td>\n",
       "      <td>https://books.toscrape.com/catalogue/the-guern...</td>\n",
       "      <td>One</td>\n",
       "      <td>£49.53</td>\n",
       "      <td>In stock</td>\n",
       "    </tr>\n",
       "    <tr>\n",
       "      <th>598</th>\n",
       "      <td>The False Prince (The Ascendance Trilogy #1)</td>\n",
       "      <td>https://books.toscrape.com/catalogue/the-false...</td>\n",
       "      <td>Five</td>\n",
       "      <td>£56.00</td>\n",
       "      <td>In stock</td>\n",
       "    </tr>\n",
       "    <tr>\n",
       "      <th>261</th>\n",
       "      <td>Superman Vol. 1: Before Truth (Superman by Gen...</td>\n",
       "      <td>https://books.toscrape.com/catalogue/superman-...</td>\n",
       "      <td>Five</td>\n",
       "      <td>£11.89</td>\n",
       "      <td>In stock</td>\n",
       "    </tr>\n",
       "  </tbody>\n",
       "</table>\n",
       "</div>"
      ],
      "text/plain": [
       "                                                 Title  \\\n",
       "747  The Guernsey Literary and Potato Peel Pie Society   \n",
       "598       The False Prince (The Ascendance Trilogy #1)   \n",
       "261  Superman Vol. 1: Before Truth (Superman by Gen...   \n",
       "\n",
       "                                      link_of_the_book Rating   Price  \\\n",
       "747  https://books.toscrape.com/catalogue/the-guern...    One  £49.53   \n",
       "598  https://books.toscrape.com/catalogue/the-false...   Five  £56.00   \n",
       "261  https://books.toscrape.com/catalogue/superman-...   Five  £11.89   \n",
       "\n",
       "    Availability  \n",
       "747     In stock  \n",
       "598     In stock  \n",
       "261     In stock  "
      ]
     },
     "execution_count": 8,
     "metadata": {},
     "output_type": "execute_result"
    }
   ],
   "source": [
    "df.sample(3)"
   ]
  },
  {
   "cell_type": "code",
   "execution_count": 39,
   "id": "c377032f-f038-4763-bd6a-790e0ab56660",
   "metadata": {},
   "outputs": [
    {
     "name": "stderr",
     "output_type": "stream",
     "text": [
      "100%|██████████| 1000/1000 [27:46<00:00,  1.67s/it]\n"
     ]
    }
   ],
   "source": [
    "data=[]\n",
    "for link in tqdm(df['link_of_the_book']):\n",
    "    res=requests.get(link)\n",
    "    soup=BeautifulSoup(res.text,'html.parser')\n",
    "    \n",
    "    book_genre=soup.find('ul',class_='breadcrumb').find_all('a')[-1].text\n",
    "    list=soup.find('div',class_=\"col-sm-6 product_main\").find_all('p',class_='instock availability')[-1].text.strip()\n",
    "    No_of_items_available=list.split(' ')[2].split('(')[1]\n",
    "    upc_no=soup.find('table',class_='table table-striped').find('td').text\n",
    "\n",
    "    data.append([book_genre,list,No_of_items_available,upc_no])\n",
    "    "
   ]
  },
  {
   "cell_type": "code",
   "execution_count": 41,
   "id": "67857004-9ac5-452b-a953-bfe5071311b8",
   "metadata": {},
   "outputs": [],
   "source": [
    "df_1=pd.DataFrame(data,columns=['Genre','unnamed_0','No_of_items_available','Book_ID'])"
   ]
  },
  {
   "cell_type": "code",
   "execution_count": 43,
   "id": "24389c98-1ef4-469b-92bc-d122cd9099eb",
   "metadata": {},
   "outputs": [],
   "source": [
    "df_1.to_csv('Books_details.csv',index=False)"
   ]
  },
  {
   "cell_type": "code",
   "execution_count": 45,
   "id": "c2eea7c5-8ce4-45d2-ae1b-f89d6ed2790e",
   "metadata": {},
   "outputs": [],
   "source": [
    "df_1=pd.read_csv('Books_details.csv')"
   ]
  },
  {
   "cell_type": "markdown",
   "id": "ad8fe4fe-6658-45ef-be73-1680f904d3d7",
   "metadata": {},
   "source": [
    "## Merge the two different csv file:\n"
   ]
  },
  {
   "cell_type": "code",
   "execution_count": 44,
   "id": "549efc3a-7391-45e2-8e5b-de592cc7ee7a",
   "metadata": {},
   "outputs": [
    {
     "data": {
      "text/html": [
       "<div>\n",
       "<style scoped>\n",
       "    .dataframe tbody tr th:only-of-type {\n",
       "        vertical-align: middle;\n",
       "    }\n",
       "\n",
       "    .dataframe tbody tr th {\n",
       "        vertical-align: top;\n",
       "    }\n",
       "\n",
       "    .dataframe thead th {\n",
       "        text-align: right;\n",
       "    }\n",
       "</style>\n",
       "<table border=\"1\" class=\"dataframe\">\n",
       "  <thead>\n",
       "    <tr style=\"text-align: right;\">\n",
       "      <th></th>\n",
       "      <th>Title</th>\n",
       "      <th>link_of_the_book</th>\n",
       "      <th>Rating</th>\n",
       "      <th>Price</th>\n",
       "      <th>Availability</th>\n",
       "    </tr>\n",
       "  </thead>\n",
       "  <tbody>\n",
       "    <tr>\n",
       "      <th>0</th>\n",
       "      <td>A Light in the Attic</td>\n",
       "      <td>https://books.toscrape.com/catalogue/a-light-i...</td>\n",
       "      <td>Three</td>\n",
       "      <td>£51.77</td>\n",
       "      <td>In stock</td>\n",
       "    </tr>\n",
       "    <tr>\n",
       "      <th>1</th>\n",
       "      <td>Tipping the Velvet</td>\n",
       "      <td>https://books.toscrape.com/catalogue/tipping-t...</td>\n",
       "      <td>One</td>\n",
       "      <td>£53.74</td>\n",
       "      <td>In stock</td>\n",
       "    </tr>\n",
       "  </tbody>\n",
       "</table>\n",
       "</div>"
      ],
      "text/plain": [
       "                  Title                                   link_of_the_book  \\\n",
       "0  A Light in the Attic  https://books.toscrape.com/catalogue/a-light-i...   \n",
       "1    Tipping the Velvet  https://books.toscrape.com/catalogue/tipping-t...   \n",
       "\n",
       "  Rating   Price Availability  \n",
       "0  Three  £51.77     In stock  \n",
       "1    One  £53.74     In stock  "
      ]
     },
     "execution_count": 44,
     "metadata": {},
     "output_type": "execute_result"
    }
   ],
   "source": [
    "df.head(2)"
   ]
  },
  {
   "cell_type": "code",
   "execution_count": 46,
   "id": "adc1a65d-584e-468d-8e4d-dd0f16d646a4",
   "metadata": {},
   "outputs": [
    {
     "data": {
      "text/html": [
       "<div>\n",
       "<style scoped>\n",
       "    .dataframe tbody tr th:only-of-type {\n",
       "        vertical-align: middle;\n",
       "    }\n",
       "\n",
       "    .dataframe tbody tr th {\n",
       "        vertical-align: top;\n",
       "    }\n",
       "\n",
       "    .dataframe thead th {\n",
       "        text-align: right;\n",
       "    }\n",
       "</style>\n",
       "<table border=\"1\" class=\"dataframe\">\n",
       "  <thead>\n",
       "    <tr style=\"text-align: right;\">\n",
       "      <th></th>\n",
       "      <th>Genre</th>\n",
       "      <th>unnamed_0</th>\n",
       "      <th>No_of_items_available</th>\n",
       "      <th>Book_ID</th>\n",
       "    </tr>\n",
       "  </thead>\n",
       "  <tbody>\n",
       "    <tr>\n",
       "      <th>0</th>\n",
       "      <td>Poetry</td>\n",
       "      <td>In stock (22 available)</td>\n",
       "      <td>22</td>\n",
       "      <td>a897fe39b1053632</td>\n",
       "    </tr>\n",
       "    <tr>\n",
       "      <th>1</th>\n",
       "      <td>Historical Fiction</td>\n",
       "      <td>In stock (20 available)</td>\n",
       "      <td>20</td>\n",
       "      <td>90fa61229261140a</td>\n",
       "    </tr>\n",
       "  </tbody>\n",
       "</table>\n",
       "</div>"
      ],
      "text/plain": [
       "                Genre                unnamed_0  No_of_items_available  \\\n",
       "0              Poetry  In stock (22 available)                     22   \n",
       "1  Historical Fiction  In stock (20 available)                     20   \n",
       "\n",
       "            Book_ID  \n",
       "0  a897fe39b1053632  \n",
       "1  90fa61229261140a  "
      ]
     },
     "execution_count": 46,
     "metadata": {},
     "output_type": "execute_result"
    }
   ],
   "source": [
    "df_1.head(2)"
   ]
  },
  {
   "cell_type": "code",
   "execution_count": 53,
   "id": "58bfce36-7936-4e3d-ae31-fbc8f954cba3",
   "metadata": {},
   "outputs": [],
   "source": [
    "df_new=pd.DataFrame()"
   ]
  },
  {
   "cell_type": "code",
   "execution_count": 55,
   "id": "4f165e16-730d-418b-8122-7570f2299a46",
   "metadata": {},
   "outputs": [],
   "source": [
    "df_new['Genre']=df_1['Genre']\n",
    "df_new['Title']=df['Title']\n",
    "df_new['Price']=df['Price']\n",
    "df_new['Rating']=df['Rating']\n",
    "df_new['Availability']=df['Availability']\n",
    "df_new['No_of_items_available']=df_1['No_of_items_available']\n",
    "df_new['Book_ID']=df_1['Book_ID']\n",
    "\n"
   ]
  },
  {
   "cell_type": "code",
   "execution_count": 57,
   "id": "724beb01-4e9b-476f-b65f-b483edfef4fd",
   "metadata": {},
   "outputs": [
    {
     "data": {
      "text/html": [
       "<div>\n",
       "<style scoped>\n",
       "    .dataframe tbody tr th:only-of-type {\n",
       "        vertical-align: middle;\n",
       "    }\n",
       "\n",
       "    .dataframe tbody tr th {\n",
       "        vertical-align: top;\n",
       "    }\n",
       "\n",
       "    .dataframe thead th {\n",
       "        text-align: right;\n",
       "    }\n",
       "</style>\n",
       "<table border=\"1\" class=\"dataframe\">\n",
       "  <thead>\n",
       "    <tr style=\"text-align: right;\">\n",
       "      <th></th>\n",
       "      <th>Genre</th>\n",
       "      <th>Title</th>\n",
       "      <th>Price</th>\n",
       "      <th>Rating</th>\n",
       "      <th>Availability</th>\n",
       "      <th>No_of_items_available</th>\n",
       "      <th>Book_ID</th>\n",
       "    </tr>\n",
       "  </thead>\n",
       "  <tbody>\n",
       "    <tr>\n",
       "      <th>796</th>\n",
       "      <td>Nonfiction</td>\n",
       "      <td>Outliers: The Story of Success</td>\n",
       "      <td>£14.16</td>\n",
       "      <td>One</td>\n",
       "      <td>In stock</td>\n",
       "      <td>3</td>\n",
       "      <td>09a7b0b566ad6225</td>\n",
       "    </tr>\n",
       "    <tr>\n",
       "      <th>297</th>\n",
       "      <td>Fiction</td>\n",
       "      <td>I Am Pilgrim (Pilgrim #1)</td>\n",
       "      <td>£10.60</td>\n",
       "      <td>Four</td>\n",
       "      <td>In stock</td>\n",
       "      <td>14</td>\n",
       "      <td>aeff7b87a8e83ebb</td>\n",
       "    </tr>\n",
       "  </tbody>\n",
       "</table>\n",
       "</div>"
      ],
      "text/plain": [
       "          Genre                           Title   Price Rating Availability  \\\n",
       "796  Nonfiction  Outliers: The Story of Success  £14.16    One     In stock   \n",
       "297     Fiction       I Am Pilgrim (Pilgrim #1)  £10.60   Four     In stock   \n",
       "\n",
       "     No_of_items_available           Book_ID  \n",
       "796                      3  09a7b0b566ad6225  \n",
       "297                     14  aeff7b87a8e83ebb  "
      ]
     },
     "execution_count": 57,
     "metadata": {},
     "output_type": "execute_result"
    }
   ],
   "source": [
    "df_new.sample(2)"
   ]
  },
  {
   "cell_type": "code",
   "execution_count": 58,
   "id": "984042dd-b7e3-4303-89cc-5f052e108799",
   "metadata": {},
   "outputs": [],
   "source": [
    "df_new.to_csv('New_Books.csv',index=False)"
   ]
  },
  {
   "cell_type": "code",
   "execution_count": null,
   "id": "e25b5978-133b-4e20-ae19-4a319a833450",
   "metadata": {},
   "outputs": [],
   "source": []
  },
  {
   "cell_type": "code",
   "execution_count": null,
   "id": "adc9dbc1-3886-4665-a724-640f38ad1745",
   "metadata": {},
   "outputs": [],
   "source": []
  },
  {
   "cell_type": "code",
   "execution_count": null,
   "id": "1731e768-511e-4c91-bb8c-f3212da0bf73",
   "metadata": {},
   "outputs": [],
   "source": []
  }
 ],
 "metadata": {
  "kernelspec": {
   "display_name": "Python 3 (ipykernel)",
   "language": "python",
   "name": "python3"
  },
  "language_info": {
   "codemirror_mode": {
    "name": "ipython",
    "version": 3
   },
   "file_extension": ".py",
   "mimetype": "text/x-python",
   "name": "python",
   "nbconvert_exporter": "python",
   "pygments_lexer": "ipython3",
   "version": "3.11.7"
  },
  "widgets": {
   "application/vnd.jupyter.widget-state+json": {
    "state": {},
    "version_major": 2,
    "version_minor": 0
   }
  }
 },
 "nbformat": 4,
 "nbformat_minor": 5
}
